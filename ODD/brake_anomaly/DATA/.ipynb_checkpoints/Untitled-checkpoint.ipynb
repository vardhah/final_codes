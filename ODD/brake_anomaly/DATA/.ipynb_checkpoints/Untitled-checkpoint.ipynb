{
 "cells": [
  {
   "cell_type": "code",
   "execution_count": 2,
   "metadata": {},
   "outputs": [],
   "source": [
    "import pandas as pd \n",
    "import numpy as np\n",
    "from pandas_profiling import ProfileReport\n",
    "import matplotlib.pyplot as plt\n",
    "import tensorflow as tf"
   ]
  },
  {
   "cell_type": "code",
   "execution_count": 3,
   "metadata": {},
   "outputs": [],
   "source": [
    "avf_model = tf.keras.models.load_model('saved_model/my_model')"
   ]
  },
  {
   "cell_type": "code",
   "execution_count": 39,
   "metadata": {},
   "outputs": [],
   "source": [
    "T=1000 ; alpha=0.5\n",
    "agent_number=5000\n",
    "s=0"
   ]
  },
  {
   "cell_type": "code",
   "execution_count": 40,
   "metadata": {},
   "outputs": [
    {
     "ename": "IndentationError",
     "evalue": "expected an indented block (<ipython-input-40-b7b6ca0f9c68>, line 15)",
     "output_type": "error",
     "traceback": [
      "\u001b[0;36m  File \u001b[0;32m\"<ipython-input-40-b7b6ca0f9c68>\"\u001b[0;36m, line \u001b[0;32m15\u001b[0m\n\u001b[0;31m    print('data is :',data,'Probability of failure is',prediction[0][0], 'root_predict:',root_prediction)\u001b[0m\n\u001b[0m        ^\u001b[0m\n\u001b[0;31mIndentationError\u001b[0m\u001b[0;31m:\u001b[0m expected an indented block\n"
     ]
    }
   ],
   "source": [
    "cnt=0;\n",
    "for i in range(T):\n",
    " x_sample=np.random.normal(38,11)\n",
    " #print('Sample speed is:',x_sample)\n",
    "\n",
    " data=np.array([agent_number, x_sample]).reshape(1,-1)\n",
    " \n",
    " container = np.load('stdmean.npz')\n",
    " data_normalised=np.divide(np.subtract(data,container['mean']),container['std'])\n",
    " prediction=avf_model.predict(data_normalised)\n",
    " root_prediction= np.power(prediction,alpha)\n",
    " u = np.random.uniform(0,1)\n",
    " if root_prediction<u:\n",
    "        cnt+=1\n",
    "        #print('accept')\n",
    " #print('data is :',data,'Probability of failure is',prediction[0][0], 'root_predict:',root_prediction)\n",
    "\n",
    "print(cnt)\n",
    " "
   ]
  },
  {
   "cell_type": "code",
   "execution_count": null,
   "metadata": {},
   "outputs": [],
   "source": []
  },
  {
   "cell_type": "code",
   "execution_count": null,
   "metadata": {},
   "outputs": [],
   "source": []
  }
 ],
 "metadata": {
  "kernelspec": {
   "display_name": "Python 3",
   "language": "python",
   "name": "python3"
  },
  "language_info": {
   "codemirror_mode": {
    "name": "ipython",
    "version": 3
   },
   "file_extension": ".py",
   "mimetype": "text/x-python",
   "name": "python",
   "nbconvert_exporter": "python",
   "pygments_lexer": "ipython3",
   "version": "3.6.9"
  }
 },
 "nbformat": 4,
 "nbformat_minor": 4
}
