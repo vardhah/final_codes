{
 "cells": [
  {
   "cell_type": "code",
   "execution_count": 2,
   "metadata": {},
   "outputs": [],
   "source": [
    "import pandas as pd \n",
    "import numpy as np\n",
    "from pandas_profiling import ProfileReport\n",
    "import matplotlib.pyplot as plt\n",
    "import tensorflow as tf\n",
    "\n",
    "csvfile = \"Data_training.csv\"  #file name \n"
   ]
  },
  {
   "cell_type": "code",
   "execution_count": 3,
   "metadata": {
    "scrolled": true
   },
   "outputs": [
    {
     "data": {
      "text/html": [
       "<div>\n",
       "<style scoped>\n",
       "    .dataframe tbody tr th:only-of-type {\n",
       "        vertical-align: middle;\n",
       "    }\n",
       "\n",
       "    .dataframe tbody tr th {\n",
       "        vertical-align: top;\n",
       "    }\n",
       "\n",
       "    .dataframe thead th {\n",
       "        text-align: right;\n",
       "    }\n",
       "</style>\n",
       "<table border=\"1\" class=\"dataframe\">\n",
       "  <thead>\n",
       "    <tr style=\"text-align: right;\">\n",
       "      <th></th>\n",
       "      <th>Episode</th>\n",
       "      <th>Kick_Speed</th>\n",
       "      <th>friction</th>\n",
       "      <th>Rewards</th>\n",
       "      <th>Stop_Distance</th>\n",
       "    </tr>\n",
       "  </thead>\n",
       "  <tbody>\n",
       "    <tr>\n",
       "      <th>0</th>\n",
       "      <td>0</td>\n",
       "      <td>65.46</td>\n",
       "      <td>0.9</td>\n",
       "      <td>-1036.68</td>\n",
       "      <td>-6.15</td>\n",
       "    </tr>\n",
       "    <tr>\n",
       "      <th>1</th>\n",
       "      <td>1</td>\n",
       "      <td>39.78</td>\n",
       "      <td>0.9</td>\n",
       "      <td>-206.17</td>\n",
       "      <td>64.61</td>\n",
       "    </tr>\n",
       "    <tr>\n",
       "      <th>2</th>\n",
       "      <td>2</td>\n",
       "      <td>45.49</td>\n",
       "      <td>0.9</td>\n",
       "      <td>-108.30</td>\n",
       "      <td>45.77</td>\n",
       "    </tr>\n",
       "    <tr>\n",
       "      <th>3</th>\n",
       "      <td>3</td>\n",
       "      <td>58.09</td>\n",
       "      <td>0.9</td>\n",
       "      <td>-16.66</td>\n",
       "      <td>21.77</td>\n",
       "    </tr>\n",
       "    <tr>\n",
       "      <th>4</th>\n",
       "      <td>4</td>\n",
       "      <td>38.86</td>\n",
       "      <td>0.9</td>\n",
       "      <td>-199.59</td>\n",
       "      <td>64.09</td>\n",
       "    </tr>\n",
       "  </tbody>\n",
       "</table>\n",
       "</div>"
      ],
      "text/plain": [
       "   Episode  Kick_Speed  friction  Rewards  Stop_Distance\n",
       "0        0       65.46       0.9 -1036.68          -6.15\n",
       "1        1       39.78       0.9  -206.17          64.61\n",
       "2        2       45.49       0.9  -108.30          45.77\n",
       "3        3       58.09       0.9   -16.66          21.77\n",
       "4        4       38.86       0.9  -199.59          64.09"
      ]
     },
     "execution_count": 3,
     "metadata": {},
     "output_type": "execute_result"
    }
   ],
   "source": [
    "data_test= pd.read_csv(csvfile)\n",
    "data_test.head()\n"
   ]
  },
  {
   "cell_type": "code",
   "execution_count": 4,
   "metadata": {},
   "outputs": [
    {
     "data": {
      "application/vnd.jupyter.widget-view+json": {
       "model_id": "9937f301ccf14deeb2c9484ad33decb6",
       "version_major": 2,
       "version_minor": 0
      },
      "text/plain": [
       "HBox(children=(FloatProgress(value=0.0, description='variables', max=5.0, style=ProgressStyle(description_widt…"
      ]
     },
     "metadata": {},
     "output_type": "display_data"
    },
    {
     "name": "stdout",
     "output_type": "stream",
     "text": [
      "\n"
     ]
    },
    {
     "data": {
      "application/vnd.jupyter.widget-view+json": {
       "model_id": "5db53110f6fe4a3fbc8b930645fcaa88",
       "version_major": 2,
       "version_minor": 0
      },
      "text/plain": [
       "HBox(children=(FloatProgress(value=0.0, description='table', max=1.0, style=ProgressStyle(description_width='i…"
      ]
     },
     "metadata": {},
     "output_type": "display_data"
    },
    {
     "name": "stdout",
     "output_type": "stream",
     "text": [
      "\n"
     ]
    },
    {
     "data": {
      "application/vnd.jupyter.widget-view+json": {
       "model_id": "568f9518d8e5450cbc431b9b59c3edd4",
       "version_major": 2,
       "version_minor": 0
      },
      "text/plain": [
       "HBox(children=(FloatProgress(value=0.0, description='warnings', max=3.0, style=ProgressStyle(description_width…"
      ]
     },
     "metadata": {},
     "output_type": "display_data"
    },
    {
     "name": "stdout",
     "output_type": "stream",
     "text": [
      "\n"
     ]
    },
    {
     "data": {
      "application/vnd.jupyter.widget-view+json": {
       "model_id": "fd7bfba21d59417c91d603672b27f5e4",
       "version_major": 2,
       "version_minor": 0
      },
      "text/plain": [
       "HBox(children=(FloatProgress(value=0.0, description='package', max=1.0, style=ProgressStyle(description_width=…"
      ]
     },
     "metadata": {},
     "output_type": "display_data"
    },
    {
     "name": "stdout",
     "output_type": "stream",
     "text": [
      "\n"
     ]
    },
    {
     "data": {
      "application/vnd.jupyter.widget-view+json": {
       "model_id": "59ef3f9f4a094a1ca9a9e43ed2a604f8",
       "version_major": 2,
       "version_minor": 0
      },
      "text/plain": [
       "HBox(children=(FloatProgress(value=0.0, description='build report structure', max=1.0, style=ProgressStyle(des…"
      ]
     },
     "metadata": {},
     "output_type": "display_data"
    },
    {
     "name": "stdout",
     "output_type": "stream",
     "text": [
      "\n"
     ]
    }
   ],
   "source": [
    "profile = ProfileReport(data_test, minimal=True)\n",
    "profile.to_file(output_file=\"output.html\")"
   ]
  },
  {
   "cell_type": "code",
   "execution_count": 4,
   "metadata": {},
   "outputs": [
    {
     "name": "stdout",
     "output_type": "stream",
     "text": [
      "Size of crashes : 383\n",
      "Size of success : 4618\n",
      "Percentage of crash cases:7.66 %\n",
      "Percentage of not crashed cases:92.34 %\n"
     ]
    },
    {
     "data": {
      "text/html": [
       "<div>\n",
       "<style scoped>\n",
       "    .dataframe tbody tr th:only-of-type {\n",
       "        vertical-align: middle;\n",
       "    }\n",
       "\n",
       "    .dataframe tbody tr th {\n",
       "        vertical-align: top;\n",
       "    }\n",
       "\n",
       "    .dataframe thead th {\n",
       "        text-align: right;\n",
       "    }\n",
       "</style>\n",
       "<table border=\"1\" class=\"dataframe\">\n",
       "  <thead>\n",
       "    <tr style=\"text-align: right;\">\n",
       "      <th></th>\n",
       "      <th>Episode</th>\n",
       "      <th>Kick_Speed</th>\n",
       "      <th>friction</th>\n",
       "      <th>Rewards</th>\n",
       "      <th>Stop_Distance</th>\n",
       "    </tr>\n",
       "  </thead>\n",
       "  <tbody>\n",
       "    <tr>\n",
       "      <th>0</th>\n",
       "      <td>0</td>\n",
       "      <td>65.46</td>\n",
       "      <td>0.9</td>\n",
       "      <td>-1036.68</td>\n",
       "      <td>-6.15</td>\n",
       "    </tr>\n",
       "    <tr>\n",
       "      <th>80</th>\n",
       "      <td>80</td>\n",
       "      <td>62.58</td>\n",
       "      <td>0.9</td>\n",
       "      <td>-1024.86</td>\n",
       "      <td>-0.59</td>\n",
       "    </tr>\n",
       "    <tr>\n",
       "      <th>108</th>\n",
       "      <td>108</td>\n",
       "      <td>67.01</td>\n",
       "      <td>0.9</td>\n",
       "      <td>-1044.09</td>\n",
       "      <td>-8.27</td>\n",
       "    </tr>\n",
       "    <tr>\n",
       "      <th>233</th>\n",
       "      <td>233</td>\n",
       "      <td>65.81</td>\n",
       "      <td>0.9</td>\n",
       "      <td>-1040.93</td>\n",
       "      <td>-8.01</td>\n",
       "    </tr>\n",
       "    <tr>\n",
       "      <th>317</th>\n",
       "      <td>317</td>\n",
       "      <td>63.00</td>\n",
       "      <td>0.9</td>\n",
       "      <td>-1037.16</td>\n",
       "      <td>-5.10</td>\n",
       "    </tr>\n",
       "  </tbody>\n",
       "</table>\n",
       "</div>"
      ],
      "text/plain": [
       "     Episode  Kick_Speed  friction  Rewards  Stop_Distance\n",
       "0          0       65.46       0.9 -1036.68          -6.15\n",
       "80        80       62.58       0.9 -1024.86          -0.59\n",
       "108      108       67.01       0.9 -1044.09          -8.27\n",
       "233      233       65.81       0.9 -1040.93          -8.01\n",
       "317      317       63.00       0.9 -1037.16          -5.10"
      ]
     },
     "execution_count": 4,
     "metadata": {},
     "output_type": "execute_result"
    }
   ],
   "source": [
    "failed = data_test[data_test['Stop_Distance'] <= 0]\n",
    "passed = data_test[data_test['Stop_Distance'] >0]\n",
    "\n",
    "print('Size of crashes :',failed.shape[0])  \n",
    "print('Size of success :',passed.shape[0]) \n",
    "print(\"Percentage of crash cases:{:.2f}\".format(failed.shape[0]*100/(failed.shape[0]+passed.shape[0])),\"%\")\n",
    "print(\"Percentage of not crashed cases:{:.2f}\".format(passed.shape[0]*100/(failed.shape[0]+passed.shape[0])),\"%\")\n",
    "\n",
    "failed.to_csv(\"crashed.csv\",index=False)\n",
    "failed.head()"
   ]
  },
  {
   "cell_type": "code",
   "execution_count": 5,
   "metadata": {},
   "outputs": [],
   "source": [
    "#passed.to_csv(\"not_crashed.csv\",index=False  )\n",
    "#passed.head()"
   ]
  },
  {
   "cell_type": "code",
   "execution_count": 6,
   "metadata": {},
   "outputs": [
    {
     "data": {
      "image/png": "[encoded data removed]",
      "text/plain": [
       "<Figure size 576x396 with 1 Axes>"
      ]
     },
     "metadata": {},
     "output_type": "display_data"
    }
   ],
   "source": [
    "fig=plt.figure\n",
    "plt.scatter(failed[\"Kick_Speed\"],failed[\"Stop_Distance\"],label='Line 2')\n",
    "plt.grid(color='r', linestyle='-', linewidth=0.5)\n",
    "plt.title(\"Failed cases\")\n",
    "plt.xlabel(\"Intial speed\")\n",
    "plt.ylabel(\"stopping distnace\")\n",
    "plt.show()"
   ]
  },
  {
   "cell_type": "code",
   "execution_count": 7,
   "metadata": {},
   "outputs": [
    {
     "data": {
      "image/png": "[encoded data removed]",
      "text/plain": [
       "<Figure size 576x396 with 1 Axes>"
      ]
     },
     "metadata": {},
     "output_type": "display_data"
    }
   ],
   "source": [
    "fig=plt.figure\n",
    "plt.scatter(passed[\"Kick_Speed\"],passed[\"Stop_Distance\"])\n",
    "plt.grid(color='r', linestyle='-', linewidth=0.5)\n",
    "plt.title(\"Success cases\")\n",
    "plt.xlabel(\"Intial speed\")\n",
    "plt.ylabel(\"distnace\")\n",
    "plt.show()\n"
   ]
  },
  {
   "cell_type": "code",
   "execution_count": 8,
   "metadata": {},
   "outputs": [
    {
     "data": {
      "text/html": [
       "<div>\n",
       "<style scoped>\n",
       "    .dataframe tbody tr th:only-of-type {\n",
       "        vertical-align: middle;\n",
       "    }\n",
       "\n",
       "    .dataframe tbody tr th {\n",
       "        vertical-align: top;\n",
       "    }\n",
       "\n",
       "    .dataframe thead th {\n",
       "        text-align: right;\n",
       "    }\n",
       "</style>\n",
       "<table border=\"1\" class=\"dataframe\">\n",
       "  <thead>\n",
       "    <tr style=\"text-align: right;\">\n",
       "      <th></th>\n",
       "      <th>Episode</th>\n",
       "      <th>Kick_Speed</th>\n",
       "      <th>friction</th>\n",
       "      <th>Rewards</th>\n",
       "      <th>Stop_Distance</th>\n",
       "      <th>test</th>\n",
       "    </tr>\n",
       "  </thead>\n",
       "  <tbody>\n",
       "    <tr>\n",
       "      <th>0</th>\n",
       "      <td>0</td>\n",
       "      <td>65.46</td>\n",
       "      <td>0.9</td>\n",
       "      <td>-1036.68</td>\n",
       "      <td>-6.15</td>\n",
       "      <td>1.0</td>\n",
       "    </tr>\n",
       "    <tr>\n",
       "      <th>1</th>\n",
       "      <td>1</td>\n",
       "      <td>39.78</td>\n",
       "      <td>0.9</td>\n",
       "      <td>-206.17</td>\n",
       "      <td>64.61</td>\n",
       "      <td>0.0</td>\n",
       "    </tr>\n",
       "    <tr>\n",
       "      <th>2</th>\n",
       "      <td>2</td>\n",
       "      <td>45.49</td>\n",
       "      <td>0.9</td>\n",
       "      <td>-108.30</td>\n",
       "      <td>45.77</td>\n",
       "      <td>0.0</td>\n",
       "    </tr>\n",
       "    <tr>\n",
       "      <th>3</th>\n",
       "      <td>3</td>\n",
       "      <td>58.09</td>\n",
       "      <td>0.9</td>\n",
       "      <td>-16.66</td>\n",
       "      <td>21.77</td>\n",
       "      <td>0.0</td>\n",
       "    </tr>\n",
       "    <tr>\n",
       "      <th>4</th>\n",
       "      <td>4</td>\n",
       "      <td>38.86</td>\n",
       "      <td>0.9</td>\n",
       "      <td>-199.59</td>\n",
       "      <td>64.09</td>\n",
       "      <td>0.0</td>\n",
       "    </tr>\n",
       "  </tbody>\n",
       "</table>\n",
       "</div>"
      ],
      "text/plain": [
       "   Episode  Kick_Speed  friction  Rewards  Stop_Distance  test\n",
       "0        0       65.46       0.9 -1036.68          -6.15   1.0\n",
       "1        1       39.78       0.9  -206.17          64.61   0.0\n",
       "2        2       45.49       0.9  -108.30          45.77   0.0\n",
       "3        3       58.09       0.9   -16.66          21.77   0.0\n",
       "4        4       38.86       0.9  -199.59          64.09   0.0"
      ]
     },
     "execution_count": 8,
     "metadata": {},
     "output_type": "execute_result"
    }
   ],
   "source": [
    "data_test.loc[data_test['Stop_Distance'] <= 0, 'test'] = int(1)\n",
    "data_test.loc[data_test['Stop_Distance'] > 0, 'test'] = int(0)\n",
    "data_test.head()"
   ]
  },
  {
   "cell_type": "code",
   "execution_count": 12,
   "metadata": {},
   "outputs": [
    {
     "name": "stdout",
     "output_type": "stream",
     "text": [
      "Total number of episodes: 5001\n",
      "Number of Pass: 289\n",
      "Number of fail: 11\n"
     ]
    },
    {
     "data": {
      "image/png": "[encoded data removed]",
      "text/plain": [
       "<Figure size 576x396 with 1 Axes>"
      ]
     },
     "metadata": {},
     "output_type": "display_data"
    }
   ],
   "source": [
    "print('Total number of episodes:',data_test['Episode'].shape[0])\n",
    "start=4700;\n",
    "end=5000\n",
    "\n",
    "fig, ax = plt.subplots()\n",
    "episode=np.array(data_test['Episode'].values.tolist()[start:end])\n",
    "test=np.array(data_test['test'].values.tolist()[start:end])\n",
    "speed=np.array(data_test['Kick_Speed'].values.tolist()[start:end])\n",
    "\n",
    "indices = test == 0\n",
    "print('Number of Pass:',indices.sum())\n",
    "print('Number of fail:',indices.shape[0]-indices.sum())\n",
    "\n",
    "# Bad values\n",
    "ax.scatter(episode[~indices], speed[~indices], c = 'red',label='fail')\n",
    "# Good values\n",
    "#ax.scatter(episode[indices], speed[indices], c = 'grey',label='Pass')\n",
    "#ax.legend()\n",
    "#ax.set_ylim([0,75])\n",
    "plt.xlabel('episode')\n",
    "plt.ylabel('speed (miles/hr)')\n",
    "ax.grid(True) \n",
    "plt.title('Training Data-last 300 episodes')\n",
    "plt.savefig('training_data.png')\n",
    "plt.show()"
   ]
  },
  {
   "cell_type": "code",
   "execution_count": 11,
   "metadata": {},
   "outputs": [
    {
     "data": {
      "text/plain": [
       "[<matplotlib.lines.Line2D at 0x7f9a948ad9e8>]"
      ]
     },
     "execution_count": 11,
     "metadata": {},
     "output_type": "execute_result"
    },
    {
     "data": {
      "image/png": "[encoded data removed]",
      "text/plain": [
       "<Figure size 576x396 with 1 Axes>"
      ]
     },
     "metadata": {},
     "output_type": "display_data"
    }
   ],
   "source": [
    "plt.plot(data_test[\"Rewards\"].values.tolist()[start:end])"
   ]
  },
  {
   "cell_type": "code",
   "execution_count": 21,
   "metadata": {},
   "outputs": [
    {
     "ename": "NameError",
     "evalue": "name 'crashed_final' is not defined",
     "output_type": "error",
     "traceback": [
      "\u001b[0;31m---------------------------------------------------------------------------\u001b[0m",
      "\u001b[0;31mNameError\u001b[0m                                 Traceback (most recent call last)",
      "\u001b[0;32m<ipython-input-21-7885eba44b9f>\u001b[0m in \u001b[0;36m<module>\u001b[0;34m\u001b[0m\n\u001b[1;32m      1\u001b[0m \u001b[0;32mfor\u001b[0m \u001b[0mi\u001b[0m \u001b[0;32min\u001b[0m \u001b[0mrange\u001b[0m\u001b[0;34m(\u001b[0m\u001b[0;36m3\u001b[0m\u001b[0;34m)\u001b[0m \u001b[0;34m:\u001b[0m\u001b[0;34m\u001b[0m\u001b[0;34m\u001b[0m\u001b[0m\n\u001b[0;32m----> 2\u001b[0;31m  \u001b[0mprint\u001b[0m\u001b[0;34m(\u001b[0m\u001b[0mcrashed_final\u001b[0m\u001b[0;34m[\u001b[0m\u001b[0;34m-\u001b[0m\u001b[0;36m1\u001b[0m\u001b[0;34m-\u001b[0m\u001b[0mi\u001b[0m\u001b[0;34m]\u001b[0m\u001b[0;34m)\u001b[0m\u001b[0;34m\u001b[0m\u001b[0;34m\u001b[0m\u001b[0m\n\u001b[0m\u001b[1;32m      3\u001b[0m \u001b[0mprint\u001b[0m\u001b[0;34m(\u001b[0m\u001b[0mcrashed_final\u001b[0m\u001b[0;34m.\u001b[0m\u001b[0mshape\u001b[0m\u001b[0;34m[\u001b[0m\u001b[0;36m0\u001b[0m\u001b[0;34m]\u001b[0m\u001b[0;34m)\u001b[0m\u001b[0;34m\u001b[0m\u001b[0;34m\u001b[0m\u001b[0m\n",
      "\u001b[0;31mNameError\u001b[0m: name 'crashed_final' is not defined"
     ]
    }
   ],
   "source": [
    "for i in range(3) :\n",
    " print(crashed_final[-1-i])\n",
    "print(crashed_final.shape[0])"
   ]
  },
  {
   "cell_type": "code",
   "execution_count": 24,
   "metadata": {},
   "outputs": [
    {
     "name": "stdout",
     "output_type": "stream",
     "text": [
      "Failures:  [2, 1, 1, 4, 3, 1, 1, 2, 2, 5, 4, 5, 1, 7, 8, 7, 10, 10, 12, 11, 12, 13, 18, 20, 13, 0, 0, 0, 0, 0, 0, 0, 0, 0, 0, 1, 0, 0, 0, 0, 39, 89, 27, 4, 0, 32, 6, 0, 0, 11]\n"
     ]
    },
    {
     "data": {
      "image/png": "[encoded data removed]",
      "text/plain": [
       "<Figure size 576x396 with 1 Axes>"
      ]
     },
     "metadata": {},
     "output_type": "display_data"
    }
   ],
   "source": [
    "step=100\n",
    "range_f=end/step\n",
    "failure=[]\n",
    "fig, ax = plt.subplots()\n",
    "for i in range(int(range_f)):\n",
    "    start=step*i\n",
    "    episode=np.array(data_test['Episode'].values.tolist()[start:start+step])\n",
    "    test=np.array(data_test['test'].values.tolist()[start:start+step])\n",
    "    indices = test == 1\n",
    "    failure.append(indices.sum())\n",
    "print('Failures: ',failure)\n",
    "ax.plot(failure,marker='o', linestyle='dashed',linewidth=2, markersize=12)\n",
    "plt.xlabel('(index+1)*1000 episodes')\n",
    "plt.ylabel('Failures/1000 episodes')\n",
    "ax.grid(True) \n",
    "plt.show()   "
   ]
  },
  {
   "cell_type": "code",
   "execution_count": 25,
   "metadata": {},
   "outputs": [
    {
     "name": "stdout",
     "output_type": "stream",
     "text": [
      "std is: [86.60205925 11.60680566]\n",
      "Mean is: [4849.5          37.18806667]\n"
     ]
    },
    {
     "data": {
      "text/html": [
       "<div>\n",
       "<style scoped>\n",
       "    .dataframe tbody tr th:only-of-type {\n",
       "        vertical-align: middle;\n",
       "    }\n",
       "\n",
       "    .dataframe tbody tr th {\n",
       "        vertical-align: top;\n",
       "    }\n",
       "\n",
       "    .dataframe thead th {\n",
       "        text-align: right;\n",
       "    }\n",
       "</style>\n",
       "<table border=\"1\" class=\"dataframe\">\n",
       "  <thead>\n",
       "    <tr style=\"text-align: right;\">\n",
       "      <th></th>\n",
       "      <th>Episode</th>\n",
       "      <th>Kick_Speed</th>\n",
       "      <th>test</th>\n",
       "    </tr>\n",
       "  </thead>\n",
       "  <tbody>\n",
       "    <tr>\n",
       "      <th>4700</th>\n",
       "      <td>-1.726287</td>\n",
       "      <td>-1.530832</td>\n",
       "      <td>0.0</td>\n",
       "    </tr>\n",
       "    <tr>\n",
       "      <th>4701</th>\n",
       "      <td>-1.714740</td>\n",
       "      <td>-0.085128</td>\n",
       "      <td>0.0</td>\n",
       "    </tr>\n",
       "    <tr>\n",
       "      <th>4702</th>\n",
       "      <td>-1.703193</td>\n",
       "      <td>0.744557</td>\n",
       "      <td>0.0</td>\n",
       "    </tr>\n",
       "    <tr>\n",
       "      <th>4703</th>\n",
       "      <td>-1.691646</td>\n",
       "      <td>-0.131653</td>\n",
       "      <td>0.0</td>\n",
       "    </tr>\n",
       "    <tr>\n",
       "      <th>4704</th>\n",
       "      <td>-1.680099</td>\n",
       "      <td>0.962533</td>\n",
       "      <td>0.0</td>\n",
       "    </tr>\n",
       "  </tbody>\n",
       "</table>\n",
       "</div>"
      ],
      "text/plain": [
       "       Episode  Kick_Speed  test\n",
       "4700 -1.726287   -1.530832   0.0\n",
       "4701 -1.714740   -0.085128   0.0\n",
       "4702 -1.703193    0.744557   0.0\n",
       "4703 -1.691646   -0.131653   0.0\n",
       "4704 -1.680099    0.962533   0.0"
      ]
     },
     "execution_count": 25,
     "metadata": {},
     "output_type": "execute_result"
    }
   ],
   "source": [
    "#data for AVF training:\n",
    "iteration_start=4700\n",
    "iteration_end=5000\n",
    "data=data_test[[\"Episode\", \"Kick_Speed\",\"test\"]][iteration_start:iteration_end]\n",
    "std=np.std(data[[\"Episode\", \"Kick_Speed\"]].values,axis=0)\n",
    "mean=np.mean(data[[\"Episode\", \"Kick_Speed\"]].values,axis=0)\n",
    "np.savez('stdmean.npz',std=std, mean=mean)\n",
    "data[[\"Episode\", \"Kick_Speed\"]]=np.divide(np.subtract(data[[\"Episode\", \"Kick_Speed\"]],mean),std)\n",
    "print('std is:',std)\n",
    "print('Mean is:',mean)\n",
    "data.head()"
   ]
  },
  {
   "cell_type": "code",
   "execution_count": 27,
   "metadata": {},
   "outputs": [
    {
     "name": "stdout",
     "output_type": "stream",
     "text": [
      "(300, 2)\n",
      "(300,)\n",
      "(2,)\n",
      "Epoch 1/500\n",
      "26/26 [==============================] - 0s 2ms/step - loss: 0.6124 - accuracy: 0.7811\n",
      "Epoch 2/500\n",
      "26/26 [==============================] - 0s 2ms/step - loss: 0.3830 - accuracy: 0.9602\n",
      "Epoch 3/500\n",
      "26/26 [==============================] - 0s 1ms/step - loss: 0.2544 - accuracy: 0.9602\n",
      "Epoch 4/500\n",
      "26/26 [==============================] - 0s 1ms/step - loss: 0.1907 - accuracy: 0.9602\n",
      "Epoch 5/500\n",
      "26/26 [==============================] - 0s 2ms/step - loss: 0.1556 - accuracy: 0.9602\n",
      "Epoch 6/500\n",
      "26/26 [==============================] - 0s 1ms/step - loss: 0.1295 - accuracy: 0.9602\n",
      "Epoch 7/500\n",
      "26/26 [==============================] - 0s 2ms/step - loss: 0.1160 - accuracy: 0.9602\n",
      "Epoch 8/500\n",
      "26/26 [==============================] - 0s 2ms/step - loss: 0.1007 - accuracy: 0.9602\n",
      "Epoch 9/500\n",
      "26/26 [==============================] - 0s 2ms/step - loss: 0.0908 - accuracy: 0.9602\n",
      "Epoch 10/500\n",
      "26/26 [==============================] - 0s 2ms/step - loss: 0.0814 - accuracy: 0.9602\n",
      "Epoch 11/500\n",
      "26/26 [==============================] - 0s 1ms/step - loss: 0.0758 - accuracy: 0.9602\n",
      "Epoch 12/500\n",
      "26/26 [==============================] - 0s 2ms/step - loss: 0.0689 - accuracy: 0.9652\n",
      "Epoch 13/500\n",
      "26/26 [==============================] - 0s 2ms/step - loss: 0.0622 - accuracy: 0.9652\n",
      "Epoch 14/500\n",
      "26/26 [==============================] - 0s 2ms/step - loss: 0.0574 - accuracy: 0.9701\n",
      "Epoch 15/500\n",
      "26/26 [==============================] - 0s 2ms/step - loss: 0.0516 - accuracy: 0.9900\n",
      "Epoch 16/500\n",
      "26/26 [==============================] - 0s 2ms/step - loss: 0.0484 - accuracy: 0.9751\n",
      "Epoch 17/500\n",
      "26/26 [==============================] - 0s 2ms/step - loss: 0.0484 - accuracy: 0.9900\n",
      "Epoch 18/500\n",
      "26/26 [==============================] - 0s 1ms/step - loss: 0.0451 - accuracy: 0.9851\n",
      "Epoch 19/500\n",
      "26/26 [==============================] - 0s 2ms/step - loss: 0.0388 - accuracy: 0.9950\n",
      "Epoch 20/500\n",
      "26/26 [==============================] - 0s 2ms/step - loss: 0.0382 - accuracy: 0.9950\n",
      "Epoch 21/500\n",
      "26/26 [==============================] - 0s 2ms/step - loss: 0.0350 - accuracy: 0.9950\n",
      "Epoch 22/500\n",
      " 1/26 [>.............................] - ETA: 0s - loss: 0.0245 - accuracy: 1.0000\n",
      "Reached 99% accuracy so cancelling training!\n",
      "26/26 [==============================] - 0s 1ms/step - loss: 0.0336 - accuracy: 1.0000\n"
     ]
    }
   ],
   "source": [
    "#AVF Training \n",
    "\n",
    "\n",
    "X=data[[\"Episode\",\"Kick_Speed\"]].values\n",
    "print(X.shape)\n",
    "Y=data[\"test\"]\n",
    "print(Y.shape)\n",
    "import tensorflow as tf\n",
    "from tensorflow import keras\n",
    "from sklearn.model_selection import train_test_split\n",
    "\n",
    "#test train split\n",
    "x_train, x_test, y_train, y_test = train_test_split(X, Y, test_size=0.33, random_state=42)\n",
    "print(X[1,:].shape)\n",
    "\n",
    "#callback\n",
    "class myCallback(tf.keras.callbacks.Callback):\n",
    "  def on_epoch_end(self, epoch, logs={}):\n",
    "    if(logs.get('accuracy')>0.997):\n",
    "      print(\"\\nReached 99% accuracy so cancelling training!\")\n",
    "      self.model.stop_training = True\n",
    "\n",
    "callbacks = myCallback()\n",
    "\n",
    "# Model\n",
    "\n",
    "model = tf.keras.models.Sequential([tf.keras.layers.InputLayer(input_shape=(2,)), \n",
    "                                    tf.keras.layers.Dense(64, activation=tf.nn.relu),\n",
    "                                    tf.keras.layers.Dense(32, activation=tf.nn.relu),\n",
    "                                    tf.keras.layers.Dense(1, activation=tf.nn.sigmoid )\n",
    "])\n",
    "model.compile(optimizer='adam',\n",
    "              loss=tf.keras.losses.BinaryCrossentropy(),\n",
    "              metrics=['accuracy'])\n",
    "\n",
    "model.fit(x_train, y_train, epochs=500, batch_size=8, callbacks=[callbacks]) ;\n"
   ]
  },
  {
   "cell_type": "code",
   "execution_count": 28,
   "metadata": {},
   "outputs": [
    {
     "name": "stdout",
     "output_type": "stream",
     "text": [
      "7/7 [==============================] - 0s 1ms/step - loss: 0.0432 - accuracy: 0.9899\n",
      "test loss, test acc: [0.043246231973171234, 0.9898989796638489]\n"
     ]
    }
   ],
   "source": [
    "results = model.evaluate(x_test, y_test, batch_size=16)\n",
    "print('test loss, test acc:', results)"
   ]
  },
  {
   "cell_type": "code",
   "execution_count": 29,
   "metadata": {},
   "outputs": [
    {
     "name": "stdout",
     "output_type": "stream",
     "text": [
      "WARNING:tensorflow:From /home/hv/.local/lib/python3.6/site-packages/tensorflow/python/ops/resource_variable_ops.py:1817: calling BaseResourceVariable.__init__ (from tensorflow.python.ops.resource_variable_ops) with constraint is deprecated and will be removed in a future version.\n",
      "Instructions for updating:\n",
      "If using Keras pass *_constraint arguments to layers.\n",
      "INFO:tensorflow:Assets written to: saved_model/my_model/assets\n"
     ]
    }
   ],
   "source": [
    "!mkdir -p saved_model\n",
    "model.save('saved_model/my_model') "
   ]
  },
  {
   "cell_type": "code",
   "execution_count": 30,
   "metadata": {},
   "outputs": [
    {
     "name": "stdout",
     "output_type": "stream",
     "text": [
      "my_model\n",
      "assets\tsaved_model.pb\tvariables\n"
     ]
    }
   ],
   "source": [
    "# my_model directory\n",
    "!ls saved_model\n",
    "\n",
    "# Contains an assets folder, saved_model.pb, and variables folder.\n",
    "!ls saved_model/my_model"
   ]
  },
  {
   "cell_type": "code",
   "execution_count": 11,
   "metadata": {},
   "outputs": [],
   "source": [
    "new_model = tf.keras.models.load_model('saved_model/my_model')"
   ]
  },
  {
   "cell_type": "code",
   "execution_count": 12,
   "metadata": {},
   "outputs": [
    {
     "name": "stdout",
     "output_type": "stream",
     "text": [
      "(2000, 2)\n",
      "Data : [[5000.           34.59724356]\n",
      " [5000.           38.54904985]\n",
      " [5000.           41.25874208]\n",
      " ...\n",
      " [5000.           27.22367761]\n",
      " [5000.           24.95547815]\n",
      " [5000.           28.7319358 ]]\n"
     ]
    }
   ],
   "source": [
    "samples_per_iteration=2000\n",
    "random_seed=np.random.randint(1,100000)\n",
    "np.random.seed(random_seed)\n",
    "candidate_initial_speed=[]\n",
    "for i in range(samples_per_iteration): \n",
    "    #candidate_initial_speed =(9* np.random.randn(samples_per_iteration, 1) + 38).reshape(-1,1)\n",
    "    candidate_initial_speed.append(np.random.normal(38,11))\n",
    "\n",
    "candidate_initial_speed=np.array(candidate_initial_speed).reshape(-1,1)\n",
    "Episode=5000*np.ones((samples_per_iteration,1)).reshape(-1,1)\n",
    "\n",
    "data=np.concatenate((Episode,candidate_initial_speed),axis=1)\n",
    "print(data.shape)\n",
    "print('Data :',data)\n",
    "\n",
    "container = np.load('stdmean.npz')\n",
    "data_normalised=np.divide(np.subtract(data,container['mean']),container['std'])\n",
    "#plt.plot(candidate_initial_speed)"
   ]
  },
  {
   "cell_type": "code",
   "execution_count": 14,
   "metadata": {},
   "outputs": [
    {
     "name": "stdout",
     "output_type": "stream",
     "text": [
      "[[5.5187941e-04]\n",
      " [2.9411614e-03]\n",
      " [1.1944532e-02]\n",
      " ...\n",
      " [2.5415300e-05]\n",
      " [9.4463567e-06]\n",
      " [4.8707108e-05]]\n",
      "0.9183669\n",
      "(2000, 1)\n",
      "[3]\n",
      "[[5.00000000e+03 7.19483081e+01 9.18366909e-01]]\n"
     ]
    }
   ],
   "source": [
    "predicted_y=new_model.predict(data_normalised,batch_size=8)\n",
    "print(predicted_y)\n",
    "max_value=np.amax(predicted_y)\n",
    "print(max_value)\n",
    "print(predicted_y.shape)\n",
    "array_position=np.where(predicted_y==max_value)[0]\n",
    "print(array_position)\n",
    "#print(predicted_y)\n",
    "#print(np.sort(predicted_y, axis=None) )\n",
    "data_final=np.concatenate((data[array_position,:],predicted_y[array_position,:]),axis=1)\n",
    "print(data_final)"
   ]
  },
  {
   "cell_type": "code",
   "execution_count": 37,
   "metadata": {},
   "outputs": [
    {
     "data": {
      "text/plain": [
       "74.04999012851141"
      ]
     },
     "execution_count": 37,
     "metadata": {},
     "output_type": "execute_result"
    }
   ],
   "source": [
    "data_final[0][1]"
   ]
  },
  {
   "cell_type": "code",
   "execution_count": 25,
   "metadata": {},
   "outputs": [
    {
     "name": "stdout",
     "output_type": "stream",
     "text": [
      "[1]\n"
     ]
    }
   ],
   "source": [
    "a=[1 ,2, 3];\n",
    "print(a[0:1])"
   ]
  },
  {
   "cell_type": "code",
   "execution_count": 17,
   "metadata": {},
   "outputs": [
    {
     "name": "stdout",
     "output_type": "stream",
     "text": [
      "0.15336610412597657\n"
     ]
    }
   ],
   "source": [
    "print(1/2000*np.sum(predicted_y))"
   ]
  },
  {
   "cell_type": "code",
   "execution_count": null,
   "metadata": {},
   "outputs": [],
   "source": []
  }
 ],
 "metadata": {
  "kernelspec": {
   "display_name": "Python 3",
   "language": "python",
   "name": "python3"
  },
  "language_info": {
   "codemirror_mode": {
    "name": "ipython",
    "version": 3
   },
   "file_extension": ".py",
   "mimetype": "text/x-python",
   "name": "python",
   "nbconvert_exporter": "python",
   "pygments_lexer": "ipython3",
   "version": "3.6.9"
  }
 },
 "nbformat": 4,
 "nbformat_minor": 4
}
