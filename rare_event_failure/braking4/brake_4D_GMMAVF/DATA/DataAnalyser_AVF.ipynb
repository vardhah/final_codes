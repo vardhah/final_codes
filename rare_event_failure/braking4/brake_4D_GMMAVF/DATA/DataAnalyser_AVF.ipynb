{
 "cells": [
  {
   "cell_type": "code",
   "execution_count": 5,
   "metadata": {},
   "outputs": [],
   "source": [
    "import pandas as pd \n",
    "import numpy as np\n",
    "from pandas_profiling import ProfileReport\n",
    "import matplotlib.pyplot as plt\n",
    "import tensorflow as tf\n",
    "\n",
    "csvfile = \"Data.csv\"  #file name \n"
   ]
  },
  {
   "cell_type": "code",
   "execution_count": 6,
   "metadata": {
    "scrolled": true
   },
   "outputs": [
    {
     "data": {
      "text/html": [
       "<div>\n",
       "<style scoped>\n",
       "    .dataframe tbody tr th:only-of-type {\n",
       "        vertical-align: middle;\n",
       "    }\n",
       "\n",
       "    .dataframe tbody tr th {\n",
       "        vertical-align: top;\n",
       "    }\n",
       "\n",
       "    .dataframe thead th {\n",
       "        text-align: right;\n",
       "    }\n",
       "</style>\n",
       "<table border=\"1\" class=\"dataframe\">\n",
       "  <thead>\n",
       "    <tr style=\"text-align: right;\">\n",
       "      <th></th>\n",
       "      <th>Episode</th>\n",
       "      <th>Kick_Speed</th>\n",
       "      <th>friction_patch</th>\n",
       "      <th>default_friction</th>\n",
       "      <th>loc_patch</th>\n",
       "      <th>size_patch</th>\n",
       "      <th>Rewards</th>\n",
       "      <th>Stop_Distance</th>\n",
       "    </tr>\n",
       "  </thead>\n",
       "  <tbody>\n",
       "    <tr>\n",
       "      <th>0</th>\n",
       "      <td>0</td>\n",
       "      <td>74.44</td>\n",
       "      <td>0.53</td>\n",
       "      <td>0.8</td>\n",
       "      <td>28.36</td>\n",
       "      <td>11.46</td>\n",
       "      <td>-1092.16</td>\n",
       "      <td>-0.12</td>\n",
       "    </tr>\n",
       "    <tr>\n",
       "      <th>1</th>\n",
       "      <td>1</td>\n",
       "      <td>71.97</td>\n",
       "      <td>0.49</td>\n",
       "      <td>0.8</td>\n",
       "      <td>36.15</td>\n",
       "      <td>16.23</td>\n",
       "      <td>-1118.97</td>\n",
       "      <td>-0.35</td>\n",
       "    </tr>\n",
       "    <tr>\n",
       "      <th>2</th>\n",
       "      <td>2</td>\n",
       "      <td>68.03</td>\n",
       "      <td>0.46</td>\n",
       "      <td>0.8</td>\n",
       "      <td>95.40</td>\n",
       "      <td>29.30</td>\n",
       "      <td>-130.02</td>\n",
       "      <td>2.59</td>\n",
       "    </tr>\n",
       "    <tr>\n",
       "      <th>3</th>\n",
       "      <td>3</td>\n",
       "      <td>33.17</td>\n",
       "      <td>0.65</td>\n",
       "      <td>0.8</td>\n",
       "      <td>65.31</td>\n",
       "      <td>16.45</td>\n",
       "      <td>26.72</td>\n",
       "      <td>11.52</td>\n",
       "    </tr>\n",
       "    <tr>\n",
       "      <th>4</th>\n",
       "      <td>4</td>\n",
       "      <td>66.68</td>\n",
       "      <td>0.38</td>\n",
       "      <td>0.8</td>\n",
       "      <td>50.03</td>\n",
       "      <td>13.92</td>\n",
       "      <td>-26.43</td>\n",
       "      <td>3.77</td>\n",
       "    </tr>\n",
       "  </tbody>\n",
       "</table>\n",
       "</div>"
      ],
      "text/plain": [
       "   Episode  Kick_Speed  friction_patch  default_friction  loc_patch  \\\n",
       "0        0       74.44            0.53               0.8      28.36   \n",
       "1        1       71.97            0.49               0.8      36.15   \n",
       "2        2       68.03            0.46               0.8      95.40   \n",
       "3        3       33.17            0.65               0.8      65.31   \n",
       "4        4       66.68            0.38               0.8      50.03   \n",
       "\n",
       "   size_patch  Rewards  Stop_Distance  \n",
       "0       11.46 -1092.16          -0.12  \n",
       "1       16.23 -1118.97          -0.35  \n",
       "2       29.30  -130.02           2.59  \n",
       "3       16.45    26.72          11.52  \n",
       "4       13.92   -26.43           3.77  "
      ]
     },
     "execution_count": 6,
     "metadata": {},
     "output_type": "execute_result"
    }
   ],
   "source": [
    "data_test= pd.read_csv(csvfile)\n",
    "data_test.head()"
   ]
  },
  {
   "cell_type": "code",
   "execution_count": 7,
   "metadata": {},
   "outputs": [
    {
     "data": {
      "text/html": [
       "<div>\n",
       "<style scoped>\n",
       "    .dataframe tbody tr th:only-of-type {\n",
       "        vertical-align: middle;\n",
       "    }\n",
       "\n",
       "    .dataframe tbody tr th {\n",
       "        vertical-align: top;\n",
       "    }\n",
       "\n",
       "    .dataframe thead th {\n",
       "        text-align: right;\n",
       "    }\n",
       "</style>\n",
       "<table border=\"1\" class=\"dataframe\">\n",
       "  <thead>\n",
       "    <tr style=\"text-align: right;\">\n",
       "      <th></th>\n",
       "      <th>Episode</th>\n",
       "      <th>Kick_Speed</th>\n",
       "      <th>friction_patch</th>\n",
       "      <th>default_friction</th>\n",
       "      <th>loc_patch</th>\n",
       "      <th>size_patch</th>\n",
       "      <th>Rewards</th>\n",
       "      <th>Stop_Distance</th>\n",
       "      <th>test</th>\n",
       "    </tr>\n",
       "  </thead>\n",
       "  <tbody>\n",
       "    <tr>\n",
       "      <th>0</th>\n",
       "      <td>0</td>\n",
       "      <td>74.44</td>\n",
       "      <td>0.53</td>\n",
       "      <td>0.8</td>\n",
       "      <td>28.36</td>\n",
       "      <td>11.46</td>\n",
       "      <td>-1092.16</td>\n",
       "      <td>-0.12</td>\n",
       "      <td>1.0</td>\n",
       "    </tr>\n",
       "    <tr>\n",
       "      <th>1</th>\n",
       "      <td>1</td>\n",
       "      <td>71.97</td>\n",
       "      <td>0.49</td>\n",
       "      <td>0.8</td>\n",
       "      <td>36.15</td>\n",
       "      <td>16.23</td>\n",
       "      <td>-1118.97</td>\n",
       "      <td>-0.35</td>\n",
       "      <td>1.0</td>\n",
       "    </tr>\n",
       "    <tr>\n",
       "      <th>2</th>\n",
       "      <td>2</td>\n",
       "      <td>68.03</td>\n",
       "      <td>0.46</td>\n",
       "      <td>0.8</td>\n",
       "      <td>95.40</td>\n",
       "      <td>29.30</td>\n",
       "      <td>-130.02</td>\n",
       "      <td>2.59</td>\n",
       "      <td>0.0</td>\n",
       "    </tr>\n",
       "    <tr>\n",
       "      <th>3</th>\n",
       "      <td>3</td>\n",
       "      <td>33.17</td>\n",
       "      <td>0.65</td>\n",
       "      <td>0.8</td>\n",
       "      <td>65.31</td>\n",
       "      <td>16.45</td>\n",
       "      <td>26.72</td>\n",
       "      <td>11.52</td>\n",
       "      <td>0.0</td>\n",
       "    </tr>\n",
       "    <tr>\n",
       "      <th>4</th>\n",
       "      <td>4</td>\n",
       "      <td>66.68</td>\n",
       "      <td>0.38</td>\n",
       "      <td>0.8</td>\n",
       "      <td>50.03</td>\n",
       "      <td>13.92</td>\n",
       "      <td>-26.43</td>\n",
       "      <td>3.77</td>\n",
       "      <td>0.0</td>\n",
       "    </tr>\n",
       "  </tbody>\n",
       "</table>\n",
       "</div>"
      ],
      "text/plain": [
       "   Episode  Kick_Speed  friction_patch  default_friction  loc_patch  \\\n",
       "0        0       74.44            0.53               0.8      28.36   \n",
       "1        1       71.97            0.49               0.8      36.15   \n",
       "2        2       68.03            0.46               0.8      95.40   \n",
       "3        3       33.17            0.65               0.8      65.31   \n",
       "4        4       66.68            0.38               0.8      50.03   \n",
       "\n",
       "   size_patch  Rewards  Stop_Distance  test  \n",
       "0       11.46 -1092.16          -0.12   1.0  \n",
       "1       16.23 -1118.97          -0.35   1.0  \n",
       "2       29.30  -130.02           2.59   0.0  \n",
       "3       16.45    26.72          11.52   0.0  \n",
       "4       13.92   -26.43           3.77   0.0  "
      ]
     },
     "execution_count": 7,
     "metadata": {},
     "output_type": "execute_result"
    }
   ],
   "source": [
    "data_test.loc[data_test['Stop_Distance'] <= 0, 'test'] = int(1)\n",
    "data_test.loc[data_test['Stop_Distance'] > 0, 'test'] = int(0)\n",
    "data_test.head()"
   ]
  },
  {
   "cell_type": "code",
   "execution_count": 6,
   "metadata": {},
   "outputs": [
    {
     "name": "stdout",
     "output_type": "stream",
     "text": [
      "Total number of episodes: 15000\n",
      "Number of Pass: 14820\n",
      "Number of fail: 179\n"
     ]
    },
    {
     "data": {
      "image/png": "[encoded data removed]",
      "text/plain": [
       "<Figure size 576x396 with 1 Axes>"
      ]
     },
     "metadata": {},
     "output_type": "display_data"
    }
   ],
   "source": [
    "print('Total number of episodes:',data_test['Episode'].shape[0])\n",
    "start=1;\n",
    "end=15000\n",
    "\n",
    "fig, ax = plt.subplots()\n",
    "episode=np.array(data_test['Episode'].values.tolist()[start:end])\n",
    "test=np.array(data_test['test'].values.tolist()[start:end])\n",
    "speed=np.array(data_test['Kick_Speed'].values.tolist()[start:end])\n",
    "#speed=np.array(data_test['size_patch'].values.tolist()[start:end])\n",
    "#speed=np.array(data_test['friction_patch'].values.tolist()[start:end])\n",
    "\n",
    "\n",
    "indices = test == 0\n",
    "print('Number of Pass:',indices.sum())\n",
    "print('Number of fail:',indices.shape[0]-indices.sum())\n",
    "\n",
    "# Bad values\n",
    "ax.scatter(episode[~indices], speed[~indices], c = 'red',label='fail')\n",
    "# Good values\n",
    "#ax.scatter(episode[indices], speed[indices], c = 'grey',label='Pass')\n",
    "#ax.legend()\n",
    "#ax.set_ylim([0,75])\n",
    "plt.xlabel('episode')\n",
    "plt.ylabel('speed (miles/hr)')\n",
    "ax.grid(True) \n",
    "plt.title('Training Data')\n",
    "plt.savefig('training_data.png')\n",
    "plt.show()"
   ]
  },
  {
   "cell_type": "code",
   "execution_count": 8,
   "metadata": {},
   "outputs": [
    {
     "name": "stdout",
     "output_type": "stream",
     "text": [
      "Size of crashes : 10\n",
      "Size of success : 46\n",
      "Percentage of crash cases:17.86 %\n",
      "Percentage of not crashed cases:82.14 %\n"
     ]
    },
    {
     "data": {
      "text/html": [
       "<div>\n",
       "<style scoped>\n",
       "    .dataframe tbody tr th:only-of-type {\n",
       "        vertical-align: middle;\n",
       "    }\n",
       "\n",
       "    .dataframe tbody tr th {\n",
       "        vertical-align: top;\n",
       "    }\n",
       "\n",
       "    .dataframe thead th {\n",
       "        text-align: right;\n",
       "    }\n",
       "</style>\n",
       "<table border=\"1\" class=\"dataframe\">\n",
       "  <thead>\n",
       "    <tr style=\"text-align: right;\">\n",
       "      <th></th>\n",
       "      <th>Episode</th>\n",
       "      <th>Kick_Speed</th>\n",
       "      <th>friction_patch</th>\n",
       "      <th>default_friction</th>\n",
       "      <th>loc_patch</th>\n",
       "      <th>size_patch</th>\n",
       "      <th>Rewards</th>\n",
       "      <th>Stop_Distance</th>\n",
       "      <th>test</th>\n",
       "    </tr>\n",
       "  </thead>\n",
       "  <tbody>\n",
       "    <tr>\n",
       "      <th>0</th>\n",
       "      <td>0</td>\n",
       "      <td>74.44</td>\n",
       "      <td>0.53</td>\n",
       "      <td>0.8</td>\n",
       "      <td>28.36</td>\n",
       "      <td>11.46</td>\n",
       "      <td>-1092.16</td>\n",
       "      <td>-0.12</td>\n",
       "      <td>1.0</td>\n",
       "    </tr>\n",
       "    <tr>\n",
       "      <th>1</th>\n",
       "      <td>1</td>\n",
       "      <td>71.97</td>\n",
       "      <td>0.49</td>\n",
       "      <td>0.8</td>\n",
       "      <td>36.15</td>\n",
       "      <td>16.23</td>\n",
       "      <td>-1118.97</td>\n",
       "      <td>-0.35</td>\n",
       "      <td>1.0</td>\n",
       "    </tr>\n",
       "    <tr>\n",
       "      <th>9</th>\n",
       "      <td>9</td>\n",
       "      <td>69.14</td>\n",
       "      <td>0.41</td>\n",
       "      <td>0.8</td>\n",
       "      <td>44.26</td>\n",
       "      <td>17.94</td>\n",
       "      <td>-1106.83</td>\n",
       "      <td>-0.19</td>\n",
       "      <td>1.0</td>\n",
       "    </tr>\n",
       "    <tr>\n",
       "      <th>22</th>\n",
       "      <td>22</td>\n",
       "      <td>72.58</td>\n",
       "      <td>0.60</td>\n",
       "      <td>0.8</td>\n",
       "      <td>35.87</td>\n",
       "      <td>22.76</td>\n",
       "      <td>-1113.16</td>\n",
       "      <td>-0.44</td>\n",
       "      <td>1.0</td>\n",
       "    </tr>\n",
       "    <tr>\n",
       "      <th>29</th>\n",
       "      <td>29</td>\n",
       "      <td>69.13</td>\n",
       "      <td>0.31</td>\n",
       "      <td>0.8</td>\n",
       "      <td>43.44</td>\n",
       "      <td>13.70</td>\n",
       "      <td>-1132.09</td>\n",
       "      <td>-0.33</td>\n",
       "      <td>1.0</td>\n",
       "    </tr>\n",
       "  </tbody>\n",
       "</table>\n",
       "</div>"
      ],
      "text/plain": [
       "    Episode  Kick_Speed  friction_patch  default_friction  loc_patch  \\\n",
       "0         0       74.44            0.53               0.8      28.36   \n",
       "1         1       71.97            0.49               0.8      36.15   \n",
       "9         9       69.14            0.41               0.8      44.26   \n",
       "22       22       72.58            0.60               0.8      35.87   \n",
       "29       29       69.13            0.31               0.8      43.44   \n",
       "\n",
       "    size_patch  Rewards  Stop_Distance  test  \n",
       "0        11.46 -1092.16          -0.12   1.0  \n",
       "1        16.23 -1118.97          -0.35   1.0  \n",
       "9        17.94 -1106.83          -0.19   1.0  \n",
       "22       22.76 -1113.16          -0.44   1.0  \n",
       "29       13.70 -1132.09          -0.33   1.0  "
      ]
     },
     "execution_count": 8,
     "metadata": {},
     "output_type": "execute_result"
    }
   ],
   "source": [
    "failed = data_test[data_test['Stop_Distance'] <= 0]\n",
    "passed = data_test[data_test['Stop_Distance'] >0]\n",
    "\n",
    "print('Size of crashes :',failed.shape[0])  \n",
    "print('Size of success :',passed.shape[0]) \n",
    "print(\"Percentage of crash cases:{:.2f}\".format(failed.shape[0]*100/(failed.shape[0]+passed.shape[0])),\"%\")\n",
    "print(\"Percentage of not crashed cases:{:.2f}\".format(passed.shape[0]*100/(failed.shape[0]+passed.shape[0])),\"%\")\n",
    "\n",
    "failed.to_csv(\"crashed_GMM.csv\",index=False)\n",
    "failed.head()"
   ]
  },
  {
   "cell_type": "code",
   "execution_count": null,
   "metadata": {},
   "outputs": [],
   "source": []
  },
  {
   "cell_type": "code",
   "execution_count": null,
   "metadata": {},
   "outputs": [],
   "source": []
  },
  {
   "cell_type": "code",
   "execution_count": null,
   "metadata": {},
   "outputs": [],
   "source": []
  },
  {
   "cell_type": "code",
   "execution_count": null,
   "metadata": {},
   "outputs": [],
   "source": []
  },
  {
   "cell_type": "code",
   "execution_count": null,
   "metadata": {},
   "outputs": [],
   "source": []
  },
  {
   "cell_type": "code",
   "execution_count": 13,
   "metadata": {},
   "outputs": [
    {
     "data": {
      "text/plain": [
       "[<matplotlib.lines.Line2D at 0x7fbb676f1f28>]"
      ]
     },
     "execution_count": 13,
     "metadata": {},
     "output_type": "execute_result"
    },
    {
     "data": {
      "image/png": "[encoded data removed]",
      "text/plain": [
       "<Figure size 576x396 with 1 Axes>"
      ]
     },
     "metadata": {},
     "output_type": "display_data"
    }
   ],
   "source": [
    "plt.plot(data_test[\"Rewards\"].values.tolist()[start:end])"
   ]
  },
  {
   "cell_type": "code",
   "execution_count": null,
   "metadata": {},
   "outputs": [],
   "source": []
  },
  {
   "cell_type": "code",
   "execution_count": 14,
   "metadata": {},
   "outputs": [
    {
     "name": "stdout",
     "output_type": "stream",
     "text": [
      "Failures:  [0, 1, 1, 0, 0, 0, 0, 0, 0, 0, 0, 0, 0, 0, 0, 0, 0, 0, 0, 0, 0, 0, 0, 0, 0, 0, 0, 0, 0, 0, 0, 0, 0, 8, 8, 0, 0, 0, 0, 0, 0, 0, 0, 0, 0, 0, 0, 0, 0, 0, 0, 0, 0, 0, 1, 0, 0, 0, 0, 0, 30, 43, 49, 0, 0, 0, 0, 0, 0, 0, 1, 1, 1, 3, 0, 0, 1, 0, 0, 0, 0, 0, 9, 0, 0, 1, 1, 0, 0, 0, 0, 0, 0, 0, 0, 0, 0, 15, 0, 0, 0, 0, 0, 0, 0, 0, 0, 0, 0, 0, 0, 0, 0, 0, 1, 0, 0, 0, 0, 0, 0, 0, 1, 0, 0, 0, 0, 0, 0, 0, 0, 0, 0, 0, 0, 1, 0, 0, 0, 0, 0, 1, 1, 0, 0, 0, 0, 0, 0, 0]\n"
     ]
    },
    {
     "data": {
      "image/png": "[encoded data removed]",
      "text/plain": [
       "<Figure size 576x396 with 1 Axes>"
      ]
     },
     "metadata": {},
     "output_type": "display_data"
    }
   ],
   "source": [
    "step=100\n",
    "range_f=end/step\n",
    "failure=[]\n",
    "fig, ax = plt.subplots()\n",
    "for i in range(int(range_f)):\n",
    "    start=step*i\n",
    "    episode=np.array(data_test['Episode'].values.tolist()[start:start+step])\n",
    "    test=np.array(data_test['test'].values.tolist()[start:start+step])\n",
    "    indices = test == 1\n",
    "    failure.append(indices.sum())\n",
    "print('Failures: ',failure)\n",
    "ax.plot(failure,marker='o', linestyle='dashed',linewidth=2, markersize=12)\n",
    "plt.xlabel('(index+1)*1000 episodes')\n",
    "plt.ylabel('Failures/1000 episodes')\n",
    "ax.grid(True) \n",
    "plt.show()   "
   ]
  },
  {
   "cell_type": "code",
   "execution_count": 28,
   "metadata": {},
   "outputs": [
    {
     "name": "stdout",
     "output_type": "stream",
     "text": [
      "std is: [9.52627900e+02 9.23664393e+00 9.90999432e-02 1.20184497e+01\n",
      " 4.97647344e+00]\n",
      "Mean is: [1.26495000e+04 3.52625333e+01 5.99406061e-01 5.02503727e+01\n",
      " 1.51369212e+01]\n"
     ]
    },
    {
     "data": {
      "text/html": [
       "<div>\n",
       "<style scoped>\n",
       "    .dataframe tbody tr th:only-of-type {\n",
       "        vertical-align: middle;\n",
       "    }\n",
       "\n",
       "    .dataframe tbody tr th {\n",
       "        vertical-align: top;\n",
       "    }\n",
       "\n",
       "    .dataframe thead th {\n",
       "        text-align: right;\n",
       "    }\n",
       "</style>\n",
       "<table border=\"1\" class=\"dataframe\">\n",
       "  <thead>\n",
       "    <tr style=\"text-align: right;\">\n",
       "      <th></th>\n",
       "      <th>Episode</th>\n",
       "      <th>Kick_Speed</th>\n",
       "      <th>friction_patch</th>\n",
       "      <th>loc_patch</th>\n",
       "      <th>size_patch</th>\n",
       "      <th>test</th>\n",
       "    </tr>\n",
       "  </thead>\n",
       "  <tbody>\n",
       "    <tr>\n",
       "      <th>11000</th>\n",
       "      <td>-1.731526</td>\n",
       "      <td>-1.251811</td>\n",
       "      <td>0.409626</td>\n",
       "      <td>1.431102</td>\n",
       "      <td>-2.545361</td>\n",
       "      <td>0.0</td>\n",
       "    </tr>\n",
       "    <tr>\n",
       "      <th>11001</th>\n",
       "      <td>-1.730476</td>\n",
       "      <td>-0.100960</td>\n",
       "      <td>-0.397640</td>\n",
       "      <td>-0.325364</td>\n",
       "      <td>-1.576804</td>\n",
       "      <td>0.0</td>\n",
       "    </tr>\n",
       "    <tr>\n",
       "      <th>11002</th>\n",
       "      <td>-1.729427</td>\n",
       "      <td>-0.725646</td>\n",
       "      <td>0.510534</td>\n",
       "      <td>-1.466110</td>\n",
       "      <td>1.451445</td>\n",
       "      <td>0.0</td>\n",
       "    </tr>\n",
       "    <tr>\n",
       "      <th>11003</th>\n",
       "      <td>-1.728377</td>\n",
       "      <td>-0.553506</td>\n",
       "      <td>-0.094915</td>\n",
       "      <td>-0.187243</td>\n",
       "      <td>-0.134015</td>\n",
       "      <td>0.0</td>\n",
       "    </tr>\n",
       "    <tr>\n",
       "      <th>11004</th>\n",
       "      <td>-1.727327</td>\n",
       "      <td>-0.063068</td>\n",
       "      <td>-0.498548</td>\n",
       "      <td>-1.789779</td>\n",
       "      <td>0.655701</td>\n",
       "      <td>0.0</td>\n",
       "    </tr>\n",
       "  </tbody>\n",
       "</table>\n",
       "</div>"
      ],
      "text/plain": [
       "        Episode  Kick_Speed  friction_patch  loc_patch  size_patch  test\n",
       "11000 -1.731526   -1.251811        0.409626   1.431102   -2.545361   0.0\n",
       "11001 -1.730476   -0.100960       -0.397640  -0.325364   -1.576804   0.0\n",
       "11002 -1.729427   -0.725646        0.510534  -1.466110    1.451445   0.0\n",
       "11003 -1.728377   -0.553506       -0.094915  -0.187243   -0.134015   0.0\n",
       "11004 -1.727327   -0.063068       -0.498548  -1.789779    0.655701   0.0"
      ]
     },
     "execution_count": 28,
     "metadata": {},
     "output_type": "execute_result"
    }
   ],
   "source": [
    "#data for AVF training:\n",
    "iteration_start=11000\n",
    "iteration_end=14300\n",
    "stdfile='stdmean.npz'\n",
    "data=data_test[[\"Episode\", \"Kick_Speed\",\"friction_patch\",\"loc_patch\",\"size_patch\",\"test\"]][iteration_start:iteration_end]\n",
    "std=np.std(data[[\"Episode\", \"Kick_Speed\",\"friction_patch\",\"loc_patch\",\"size_patch\"]].values,axis=0)\n",
    "mean=np.mean(data[[\"Episode\", \"Kick_Speed\",\"friction_patch\",\"loc_patch\",\"size_patch\"]].values,axis=0)\n",
    "np.savez(stdfile,std=std, mean=mean)\n",
    "data[[\"Episode\", \"Kick_Speed\",\"friction_patch\",\"loc_patch\",\"size_patch\"]]=np.divide(np.subtract(data[[\"Episode\", \"Kick_Speed\",\"friction_patch\",\"loc_patch\",\"size_patch\"]],mean),std)\n",
    "print('std is:',std)\n",
    "print('Mean is:',mean)\n",
    "data.head()\n",
    "\n",
    "from sklearn.model_selection import KFold, cross_val_score\n",
    "\n",
    "k_fold = KFold(n_splits=10)\n",
    "for train_indices, test_indices in k_fold.split(X):\n",
    "    print('Train: %s | test: %s' % (train_indices, test_indices))\n",
    "Train: [2 3 4 5] | test: [0 1]\n",
    "Train: [0 1 4 5] | test: [2 3]\n",
    "Train: [0 1 2 3] | test: [4 5]"
   ]
  },
  {
   "cell_type": "code",
   "execution_count": 29,
   "metadata": {},
   "outputs": [
    {
     "name": "stdout",
     "output_type": "stream",
     "text": [
      "(3300, 5)\n",
      "(3300,)\n",
      "(5,)\n",
      "Epoch 1/500\n",
      "413/413 [==============================] - 1s 2ms/step - loss: 0.0632 - accuracy: 0.9973\n",
      "Epoch 2/500\n",
      "413/413 [==============================] - 1s 2ms/step - loss: 0.0137 - accuracy: 0.9985\n",
      "Epoch 3/500\n",
      "413/413 [==============================] - 1s 2ms/step - loss: 0.0100 - accuracy: 0.9985\n",
      "Epoch 4/500\n",
      "413/413 [==============================] - 1s 2ms/step - loss: 0.0074 - accuracy: 0.9985\n",
      "Epoch 5/500\n",
      "413/413 [==============================] - 1s 2ms/step - loss: 0.0052 - accuracy: 0.9988\n",
      "Epoch 6/500\n",
      "413/413 [==============================] - 1s 2ms/step - loss: 0.0042 - accuracy: 0.9988\n",
      "Epoch 7/500\n",
      "413/413 [==============================] - 1s 2ms/step - loss: 0.0031 - accuracy: 0.9991\n",
      "Epoch 8/500\n",
      "413/413 [==============================] - 1s 2ms/step - loss: 0.0025 - accuracy: 0.9994\n",
      "Epoch 9/500\n",
      "413/413 [==============================] - 1s 2ms/step - loss: 0.0013 - accuracy: 0.9997\n",
      "Epoch 10/500\n",
      "413/413 [==============================] - 1s 2ms/step - loss: 0.0014 - accuracy: 0.9991\n",
      "Epoch 11/500\n",
      "413/413 [==============================] - 1s 2ms/step - loss: 0.0013 - accuracy: 0.9994\n",
      "Epoch 12/500\n",
      "413/413 [==============================] - 1s 2ms/step - loss: 0.0013 - accuracy: 0.9991\n",
      "Epoch 13/500\n",
      "390/413 [===========================>..] - ETA: 0s - loss: 5.2404e-04 - accuracy: 1.0000\n",
      "Reached 998% accuracy so cancelling training!\n",
      "413/413 [==============================] - 1s 2ms/step - loss: 7.0646e-04 - accuracy: 1.0000\n"
     ]
    }
   ],
   "source": [
    "#AVF Training \n",
    "\n",
    "\n",
    "X=data[[\"Episode\", \"Kick_Speed\",\"friction_patch\",\"loc_patch\",\"size_patch\"]].values\n",
    "print(X.shape)\n",
    "Y=data[\"test\"]\n",
    "print(Y.shape)\n",
    "import tensorflow as tf\n",
    "from tensorflow import keras\n",
    "from sklearn.model_selection import train_test_split\n",
    "\n",
    "#test train split\n",
    "x_train, x_test, y_train, y_test = train_test_split(X, Y, test_size=0.33, random_state=42)\n",
    "x_train=X\n",
    "y_train=Y\n",
    "print(X[1,:].shape)\n",
    "\n",
    "#callback\n",
    "class myCallback(tf.keras.callbacks.Callback):\n",
    "  def on_epoch_end(self, epoch, logs={}):\n",
    "    if(logs.get('accuracy')>0.9999):\n",
    "      print(\"\\nReached 998% accuracy so cancelling training!\")\n",
    "      self.model.stop_training = True\n",
    "\n",
    "callbacks = myCallback()\n",
    "\n",
    "# Model\n",
    "\n",
    "model = tf.keras.models.Sequential([tf.keras.layers.InputLayer(input_shape=(5,)), \n",
    "                                    tf.keras.layers.Dense(64, activation=tf.nn.relu),\n",
    "                                    tf.keras.layers.Dense(32, activation=tf.nn.relu),\n",
    "                                    tf.keras.layers.Dense(1, activation=tf.nn.sigmoid )\n",
    "])\n",
    "model.compile(optimizer='adam',\n",
    "              loss=tf.keras.losses.BinaryCrossentropy(),\n",
    "              metrics=['accuracy'])\n",
    "\n",
    "model.fit(x_train, y_train, epochs=500, batch_size=8, callbacks=[callbacks]) ;\n"
   ]
  },
  {
   "cell_type": "code",
   "execution_count": 23,
   "metadata": {},
   "outputs": [
    {
     "name": "stdout",
     "output_type": "stream",
     "text": [
      "83/83 [==============================] - 0s 1ms/step - loss: 0.0330 - accuracy: 0.9977\n",
      "test loss, test acc: [0.033047664910554886, 0.9977272748947144]\n"
     ]
    }
   ],
   "source": [
    "results = model.evaluate(x_test, y_test, batch_size=16)\n",
    "print('test loss, test acc:', results)"
   ]
  },
  {
   "cell_type": "code",
   "execution_count": 30,
   "metadata": {},
   "outputs": [
    {
     "name": "stdout",
     "output_type": "stream",
     "text": [
      "INFO:tensorflow:Assets written to: saved_model/my_model/assets\n"
     ]
    }
   ],
   "source": [
    "!mkdir -p saved_model\n",
    "model.save('saved_model/my_model') "
   ]
  },
  {
   "cell_type": "code",
   "execution_count": 31,
   "metadata": {},
   "outputs": [
    {
     "name": "stdout",
     "output_type": "stream",
     "text": [
      "my_model\n",
      "assets\tsaved_model.pb\tvariables\n"
     ]
    }
   ],
   "source": [
    "# my_model directory\n",
    "!ls saved_model\n",
    "\n",
    "# Contains an assets folder, saved_model.pb, and variables folder.\n",
    "!ls saved_model/my_model"
   ]
  },
  {
   "cell_type": "code",
   "execution_count": 17,
   "metadata": {},
   "outputs": [],
   "source": [
    "new_model = tf.keras.models.load_model('saved_model/my_model')"
   ]
  },
  {
   "cell_type": "code",
   "execution_count": 17,
   "metadata": {},
   "outputs": [
    {
     "name": "stdout",
     "output_type": "stream",
     "text": [
      "(2000, 2)\n",
      "Data : [[3000.           40.55732848]\n",
      " [3000.           27.25870435]\n",
      " [3000.           22.33549162]\n",
      " ...\n",
      " [3000.           14.07467256]\n",
      " [3000.           33.81445963]\n",
      " [3000.           41.825908  ]]\n"
     ]
    },
    {
     "ename": "ValueError",
     "evalue": "operands could not be broadcast together with shapes (2000,2) (5,) ",
     "output_type": "error",
     "traceback": [
      "\u001b[0;31m---------------------------------------------------------------------------\u001b[0m",
      "\u001b[0;31mValueError\u001b[0m                                Traceback (most recent call last)",
      "\u001b[0;32m<ipython-input-17-e105632e0463>\u001b[0m in \u001b[0;36m<module>\u001b[0;34m\u001b[0m\n\u001b[1;32m     15\u001b[0m \u001b[0;34m\u001b[0m\u001b[0m\n\u001b[1;32m     16\u001b[0m \u001b[0mcontainer\u001b[0m \u001b[0;34m=\u001b[0m \u001b[0mnp\u001b[0m\u001b[0;34m.\u001b[0m\u001b[0mload\u001b[0m\u001b[0;34m(\u001b[0m\u001b[0;34m'stdmean.npz'\u001b[0m\u001b[0;34m)\u001b[0m\u001b[0;34m\u001b[0m\u001b[0;34m\u001b[0m\u001b[0m\n\u001b[0;32m---> 17\u001b[0;31m \u001b[0mdata_normalised\u001b[0m\u001b[0;34m=\u001b[0m\u001b[0mnp\u001b[0m\u001b[0;34m.\u001b[0m\u001b[0mdivide\u001b[0m\u001b[0;34m(\u001b[0m\u001b[0mnp\u001b[0m\u001b[0;34m.\u001b[0m\u001b[0msubtract\u001b[0m\u001b[0;34m(\u001b[0m\u001b[0mdata\u001b[0m\u001b[0;34m,\u001b[0m\u001b[0mcontainer\u001b[0m\u001b[0;34m[\u001b[0m\u001b[0;34m'mean'\u001b[0m\u001b[0;34m]\u001b[0m\u001b[0;34m)\u001b[0m\u001b[0;34m,\u001b[0m\u001b[0mcontainer\u001b[0m\u001b[0;34m[\u001b[0m\u001b[0;34m'std'\u001b[0m\u001b[0;34m]\u001b[0m\u001b[0;34m)\u001b[0m\u001b[0;34m\u001b[0m\u001b[0;34m\u001b[0m\u001b[0m\n\u001b[0m\u001b[1;32m     18\u001b[0m \u001b[0;31m#plt.plot(candidate_initial_speed)\u001b[0m\u001b[0;34m\u001b[0m\u001b[0;34m\u001b[0m\u001b[0;34m\u001b[0m\u001b[0m\n",
      "\u001b[0;31mValueError\u001b[0m: operands could not be broadcast together with shapes (2000,2) (5,) "
     ]
    }
   ],
   "source": [
    "samples_per_iteration=2000\n",
    "random_seed=np.random.randint(1,100000)\n",
    "np.random.seed(random_seed)\n",
    "candidate_initial_speed=[]\n",
    "for i in range(samples_per_iteration): \n",
    "    #candidate_initial_speed =(9* np.random.randn(samples_per_iteration, 1) + 38).reshape(-1,1)\n",
    "    candidate_initial_speed.append(np.random.normal(38,11))\n",
    "\n",
    "candidate_initial_speed=np.array(candidate_initial_speed).reshape(-1,1)\n",
    "Episode=3000*np.ones((samples_per_iteration,1)).reshape(-1,1)\n",
    "\n",
    "data=np.concatenate((Episode,candidate_initial_speed),axis=1)\n",
    "print(data.shape)\n",
    "print('Data :',data)\n",
    "\n",
    "container = np.load('stdmean9800.npz')\n",
    "data_normalised=np.divide(np.subtract(data,container['mean']),container['std'])\n",
    "#plt.plot(candidate_initial_speed)"
   ]
  },
  {
   "cell_type": "code",
   "execution_count": 18,
   "metadata": {},
   "outputs": [
    {
     "ename": "NameError",
     "evalue": "name 'data_normalised' is not defined",
     "output_type": "error",
     "traceback": [
      "\u001b[0;31m---------------------------------------------------------------------------\u001b[0m",
      "\u001b[0;31mNameError\u001b[0m                                 Traceback (most recent call last)",
      "\u001b[0;32m<ipython-input-18-dc2561c119cd>\u001b[0m in \u001b[0;36m<module>\u001b[0;34m\u001b[0m\n\u001b[0;32m----> 1\u001b[0;31m \u001b[0mpredicted_y\u001b[0m\u001b[0;34m=\u001b[0m\u001b[0mnew_model\u001b[0m\u001b[0;34m.\u001b[0m\u001b[0mpredict\u001b[0m\u001b[0;34m(\u001b[0m\u001b[0mdata_normalised\u001b[0m\u001b[0;34m,\u001b[0m\u001b[0mbatch_size\u001b[0m\u001b[0;34m=\u001b[0m\u001b[0;36m8\u001b[0m\u001b[0;34m)\u001b[0m\u001b[0;34m\u001b[0m\u001b[0;34m\u001b[0m\u001b[0m\n\u001b[0m\u001b[1;32m      2\u001b[0m \u001b[0mmax_value\u001b[0m\u001b[0;34m=\u001b[0m\u001b[0mnp\u001b[0m\u001b[0;34m.\u001b[0m\u001b[0mamax\u001b[0m\u001b[0;34m(\u001b[0m\u001b[0mpredicted_y\u001b[0m\u001b[0;34m)\u001b[0m\u001b[0;34m\u001b[0m\u001b[0;34m\u001b[0m\u001b[0m\n\u001b[1;32m      3\u001b[0m \u001b[0mprint\u001b[0m\u001b[0;34m(\u001b[0m\u001b[0mmax_value\u001b[0m\u001b[0;34m)\u001b[0m\u001b[0;34m\u001b[0m\u001b[0;34m\u001b[0m\u001b[0m\n\u001b[1;32m      4\u001b[0m \u001b[0mprint\u001b[0m\u001b[0;34m(\u001b[0m\u001b[0mpredicted_y\u001b[0m\u001b[0;34m.\u001b[0m\u001b[0mshape\u001b[0m\u001b[0;34m)\u001b[0m\u001b[0;34m\u001b[0m\u001b[0;34m\u001b[0m\u001b[0m\n\u001b[1;32m      5\u001b[0m \u001b[0marray_position\u001b[0m\u001b[0;34m=\u001b[0m\u001b[0mnp\u001b[0m\u001b[0;34m.\u001b[0m\u001b[0mwhere\u001b[0m\u001b[0;34m(\u001b[0m\u001b[0mpredicted_y\u001b[0m\u001b[0;34m==\u001b[0m\u001b[0mmax_value\u001b[0m\u001b[0;34m)\u001b[0m\u001b[0;34m[\u001b[0m\u001b[0;36m0\u001b[0m\u001b[0;34m]\u001b[0m\u001b[0;34m\u001b[0m\u001b[0;34m\u001b[0m\u001b[0m\n",
      "\u001b[0;31mNameError\u001b[0m: name 'data_normalised' is not defined"
     ]
    }
   ],
   "source": [
    "predicted_y=new_model.predict(data_normalised,batch_size=8)\n",
    "max_value=np.amax(predicted_y)\n",
    "print(max_value)\n",
    "print(predicted_y.shape)\n",
    "array_position=np.where(predicted_y==max_value)[0]\n",
    "print(array_position)\n",
    "#print(predicted_y)\n",
    "#print(np.sort(predicted_y, axis=None) )\n",
    "data_final=np.concatenate((data[array_position,:],predicted_y[array_position,:]),axis=1)\n",
    "print(data_final)"
   ]
  },
  {
   "cell_type": "code",
   "execution_count": 37,
   "metadata": {},
   "outputs": [
    {
     "data": {
      "text/plain": [
       "74.04999012851141"
      ]
     },
     "execution_count": 37,
     "metadata": {},
     "output_type": "execute_result"
    }
   ],
   "source": [
    "data_final[0][1]"
   ]
  },
  {
   "cell_type": "code",
   "execution_count": 25,
   "metadata": {},
   "outputs": [
    {
     "name": "stdout",
     "output_type": "stream",
     "text": [
      "[1]\n"
     ]
    }
   ],
   "source": [
    "a=[1 ,2, 3];\n",
    "print(a[0:1])"
   ]
  },
  {
   "cell_type": "code",
   "execution_count": null,
   "metadata": {},
   "outputs": [],
   "source": []
  }
 ],
 "metadata": {
  "kernelspec": {
   "display_name": "Python 3",
   "language": "python",
   "name": "python3"
  },
  "language_info": {
   "codemirror_mode": {
    "name": "ipython",
    "version": 3
   },
   "file_extension": ".py",
   "mimetype": "text/x-python",
   "name": "python",
   "nbconvert_exporter": "python",
   "pygments_lexer": "ipython3",
   "version": "3.6.9"
  }
 },
 "nbformat": 4,
 "nbformat_minor": 4
}
