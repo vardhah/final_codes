{
 "cells": [
  {
   "cell_type": "code",
   "execution_count": 2,
   "metadata": {},
   "outputs": [],
   "source": [
    "import pandas as pd \n",
    "import numpy as np\n",
    "from pandas_profiling import ProfileReport\n",
    "import matplotlib.pyplot as plt\n",
    "import tensorflow as tf\n",
    "import itertools\n",
    "\n",
    "import numpy as np\n",
    "from scipy import linalg\n",
    "import matplotlib as mpl\n",
    "\n",
    "import scipy.stats \n",
    "import pickle \n",
    "from sklearn import mixture\n",
    "\n",
    "csvfile = \"crashed5D_train.csv\"  #file name \n",
    "#avffile=\"crashed_10_avf.csv\""
   ]
  },
  {
   "cell_type": "code",
   "execution_count": 3,
   "metadata": {
    "scrolled": true
   },
   "outputs": [
    {
     "data": {
      "text/html": [
       "<div>\n",
       "<style scoped>\n",
       "    .dataframe tbody tr th:only-of-type {\n",
       "        vertical-align: middle;\n",
       "    }\n",
       "\n",
       "    .dataframe tbody tr th {\n",
       "        vertical-align: top;\n",
       "    }\n",
       "\n",
       "    .dataframe thead th {\n",
       "        text-align: right;\n",
       "    }\n",
       "</style>\n",
       "<table border=\"1\" class=\"dataframe\">\n",
       "  <thead>\n",
       "    <tr style=\"text-align: right;\">\n",
       "      <th></th>\n",
       "      <th>Episode</th>\n",
       "      <th>Kick_Speed</th>\n",
       "      <th>friction_patch</th>\n",
       "      <th>default_friction</th>\n",
       "      <th>loc_patch</th>\n",
       "      <th>size_patch</th>\n",
       "      <th>Rewards</th>\n",
       "      <th>Stop_Distance</th>\n",
       "      <th>test</th>\n",
       "    </tr>\n",
       "  </thead>\n",
       "  <tbody>\n",
       "    <tr>\n",
       "      <th>0</th>\n",
       "      <td>109</td>\n",
       "      <td>58.41</td>\n",
       "      <td>0.65</td>\n",
       "      <td>0.8</td>\n",
       "      <td>48.42</td>\n",
       "      <td>17.12</td>\n",
       "      <td>-1160.53</td>\n",
       "      <td>-0.20</td>\n",
       "      <td>1.0</td>\n",
       "    </tr>\n",
       "    <tr>\n",
       "      <th>1</th>\n",
       "      <td>280</td>\n",
       "      <td>59.23</td>\n",
       "      <td>0.44</td>\n",
       "      <td>0.8</td>\n",
       "      <td>43.17</td>\n",
       "      <td>22.01</td>\n",
       "      <td>-1118.70</td>\n",
       "      <td>-0.48</td>\n",
       "      <td>1.0</td>\n",
       "    </tr>\n",
       "    <tr>\n",
       "      <th>2</th>\n",
       "      <td>3308</td>\n",
       "      <td>59.45</td>\n",
       "      <td>0.46</td>\n",
       "      <td>0.8</td>\n",
       "      <td>33.38</td>\n",
       "      <td>19.75</td>\n",
       "      <td>-1125.02</td>\n",
       "      <td>-0.24</td>\n",
       "      <td>1.0</td>\n",
       "    </tr>\n",
       "    <tr>\n",
       "      <th>3</th>\n",
       "      <td>3321</td>\n",
       "      <td>58.11</td>\n",
       "      <td>0.36</td>\n",
       "      <td>0.8</td>\n",
       "      <td>41.69</td>\n",
       "      <td>9.61</td>\n",
       "      <td>-1119.80</td>\n",
       "      <td>-0.45</td>\n",
       "      <td>1.0</td>\n",
       "    </tr>\n",
       "    <tr>\n",
       "      <th>4</th>\n",
       "      <td>3324</td>\n",
       "      <td>52.12</td>\n",
       "      <td>0.44</td>\n",
       "      <td>0.8</td>\n",
       "      <td>49.99</td>\n",
       "      <td>18.09</td>\n",
       "      <td>-1139.74</td>\n",
       "      <td>-0.33</td>\n",
       "      <td>1.0</td>\n",
       "    </tr>\n",
       "  </tbody>\n",
       "</table>\n",
       "</div>"
      ],
      "text/plain": [
       "   Episode  Kick_Speed  friction_patch  default_friction  loc_patch  \\\n",
       "0      109       58.41            0.65               0.8      48.42   \n",
       "1      280       59.23            0.44               0.8      43.17   \n",
       "2     3308       59.45            0.46               0.8      33.38   \n",
       "3     3321       58.11            0.36               0.8      41.69   \n",
       "4     3324       52.12            0.44               0.8      49.99   \n",
       "\n",
       "   size_patch  Rewards  Stop_Distance  test  \n",
       "0       17.12 -1160.53          -0.20   1.0  \n",
       "1       22.01 -1118.70          -0.48   1.0  \n",
       "2       19.75 -1125.02          -0.24   1.0  \n",
       "3        9.61 -1119.80          -0.45   1.0  \n",
       "4       18.09 -1139.74          -0.33   1.0  "
      ]
     },
     "execution_count": 3,
     "metadata": {},
     "output_type": "execute_result"
    }
   ],
   "source": [
    "data_train= pd.read_csv(csvfile)\n",
    "data_train.head()\n",
    "#data_avf=pd.read_csv(avffile)"
   ]
  },
  {
   "cell_type": "code",
   "execution_count": 7,
   "metadata": {},
   "outputs": [
    {
     "name": "stdout",
     "output_type": "stream",
     "text": [
      "X is:      Kick_Speed  friction_patch  loc_patch  size_patch\n",
      "169       40.20            0.44      42.20       15.96\n",
      "170       32.16            0.77      69.03       13.47\n",
      "171       30.91            0.49      45.59       18.92\n",
      "172       51.33            0.72      57.34        8.10\n",
      "173       44.63            0.68      60.07       13.37\n",
      "174       71.58            0.36      35.73        9.17\n",
      "175       69.47            0.47      89.97       26.98\n",
      "176       65.31            0.36      53.87       14.45\n",
      "177       65.85            0.36      54.04       21.64\n",
      "178       70.50            0.58      41.78       23.92\n"
     ]
    }
   ],
   "source": [
    "bic_store=[]\n",
    "X=data_train[[\"Kick_Speed\",\"friction_patch\",\"loc_patch\",\"size_patch\"]].iloc[169:180]\n",
    "#Y=list(data_avf[\"Kick_Speed\"])\n",
    "#t_data=X+Y\n",
    "\n",
    "#print('Total Data:',t_data)\n",
    "#X=np.array(t_data).reshape(-1,1)\n",
    "print(\"X is:\",X)"
   ]
  },
  {
   "cell_type": "code",
   "execution_count": 8,
   "metadata": {
    "scrolled": true
   },
   "outputs": [
    {
     "name": "stdout",
     "output_type": "stream",
     "text": [
      "[243.58831613134828, 170.90453346790417, 83.67129880845016, -23.825564986396472, -63.056146808183456, -94.68715218291268]\n"
     ]
    },
    {
     "data": {
      "text/plain": [
       "[<matplotlib.lines.Line2D at 0x7f5b6c809668>]"
      ]
     },
     "execution_count": 8,
     "metadata": {},
     "output_type": "execute_result"
    },
    {
     "data": {
      "image/png": "[encoded data removed]",
      "text/plain": [
       "<Figure size 576x396 with 1 Axes>"
      ]
     },
     "metadata": {},
     "output_type": "display_data"
    }
   ],
   "source": [
    "for i in range(6):\n",
    " gmm = mixture.GaussianMixture(n_components=i+1, covariance_type='full',n_init=200).fit(X)\n",
    " bic=gmm.bic(X)\n",
    " bic_store.append(bic)\n",
    "print(bic_store)\n",
    "plt.plot(bic_store)"
   ]
  },
  {
   "cell_type": "code",
   "execution_count": 9,
   "metadata": {},
   "outputs": [
    {
     "name": "stdout",
     "output_type": "stream",
     "text": [
      "170.90453346790417\n"
     ]
    }
   ],
   "source": [
    "i=1\n",
    "gmm_5D = mixture.GaussianMixture(n_components=i+1, covariance_type='full',n_init=200).fit(X)\n",
    "bic=gmm_5D.bic(X)\n",
    "print(bic)"
   ]
  },
  {
   "cell_type": "code",
   "execution_count": 10,
   "metadata": {},
   "outputs": [],
   "source": [
    "with open('gmm_5D', 'wb') as f:\n",
    "    pickle.dump(gmm_5D, f)"
   ]
  },
  {
   "cell_type": "code",
   "execution_count": 13,
   "metadata": {},
   "outputs": [
    {
     "name": "stdout",
     "output_type": "stream",
     "text": [
      "(array([[36.58781838,  0.51947479, 41.14670224, 12.1260895 ]]), array([0]))\n"
     ]
    }
   ],
   "source": [
    "with open('gmm_5D', 'rb') as f:\n",
    "    model = pickle.load(f)\n",
    "sample = model.sample(1)\n",
    "print(sample)"
   ]
  },
  {
   "cell_type": "code",
   "execution_count": 14,
   "metadata": {},
   "outputs": [
    {
     "name": "stdout",
     "output_type": "stream",
     "text": [
      "36.587818379788146\n",
      "0.5194747945798778\n"
     ]
    }
   ],
   "source": [
    "print(sample[0][0][0])\n",
    "print(sample[0][0][1])"
   ]
  },
  {
   "cell_type": "code",
   "execution_count": 15,
   "metadata": {},
   "outputs": [
    {
     "name": "stdout",
     "output_type": "stream",
     "text": [
      "Means are : [[44.78333515  0.59499998 60.69999943 16.13333381]\n",
      " [68.31000032  0.41500001 46.35499901 17.29499944]]\n",
      "Variances are : [[[ 2.91601000e-01 -5.94000000e-02 -1.63350000e+00 -3.98250000e+00]\n",
      "  [-5.94000000e-02  1.21010000e-02  3.32750000e-01  8.11250000e-01]\n",
      "  [-1.63350000e+00  3.32750000e-01  9.15062600e+00  2.23093750e+01]\n",
      "  [-3.98250000e+00  8.11250000e-01  2.23093750e+01  5.43906260e+01]]\n",
      "\n",
      " [[ 2.15760260e+01 -1.16125000e-01 -7.87327500e+00 -6.87460000e+00]\n",
      "  [-1.16125000e-01  6.26000000e-04  4.23750000e-02  3.70000000e-02]\n",
      "  [-7.87327500e+00  4.23750000e-02  2.87302600e+00  2.50860000e+00]\n",
      "  [-6.87460000e+00  3.70000000e-02  2.50860000e+00  2.19040100e+00]]\n",
      "\n",
      " [[ 1.00000000e-06  1.64871929e-28  3.11000523e-26  9.44108731e-27]\n",
      "  [ 1.64871929e-28  1.00000000e-06  2.09837001e-28  6.37005181e-29]\n",
      "  [ 3.11000523e-26  2.09837001e-28  1.00000000e-06  1.20159293e-26]\n",
      "  [ 9.44108731e-27  6.37005181e-29  1.20159293e-26  1.00000000e-06]]\n",
      "\n",
      " [[ 1.12225010e+01  6.70000000e-02 -4.57275000e+00 -8.82725000e+00]\n",
      "  [ 6.70000000e-02  4.01000000e-04 -2.73000000e-02 -5.27000000e-02]\n",
      "  [-4.57275000e+00 -2.73000000e-02  1.86322600e+00  3.59677500e+00]\n",
      "  [-8.82725000e+00 -5.27000000e-02  3.59677500e+00  6.94322600e+00]]\n",
      "\n",
      " [[ 7.29010000e-02  2.76101317e-29  2.29500000e-02  9.70650000e-01]\n",
      "  [ 2.76101317e-29  1.00000000e-06  2.20881053e-29  7.59278621e-30]\n",
      "  [ 2.29500000e-02  2.20881053e-29  7.22600000e-03  3.05575000e-01]\n",
      "  [ 9.70650000e-01  7.59278621e-30  3.05575000e-01  1.29240260e+01]]\n",
      "\n",
      " [[ 1.00000000e-06  1.18329136e-28  1.11071615e-26  2.14570166e-27]\n",
      "  [ 1.18329136e-28  1.00000000e-06  2.60324099e-28  5.02898827e-29]\n",
      "  [ 1.11071615e-26  2.60324099e-28  1.00000000e-06  4.72054366e-27]\n",
      "  [ 2.14570166e-27  5.02898827e-29  4.72054366e-27  1.00000000e-06]]]\n"
     ]
    }
   ],
   "source": [
    "param=gmm_5D.means_;covar=gmm.covariances_\n",
    "print(\"Means are :\",param)\n",
    "print(\"Variances are :\",covar)"
   ]
  },
  {
   "cell_type": "code",
   "execution_count": 341,
   "metadata": {},
   "outputs": [
    {
     "name": "stdout",
     "output_type": "stream",
     "text": [
      "[60.23, 56.79, 63.86, 50.77, 70.01, 45.81, 50.78, 49.54, 48.23, 55.48, 52.69, 56.91, 47.95, 79.13, 81.78, 81.85, 84.11, 78.85, 81.62, 82.31, 79.07]\n",
      "Length of array : 21\n",
      "[0. 0. 0. 0. 0. 0. 0. 0. 0. 0. 0. 0. 0. 0. 0. 0. 0. 0. 0. 0. 0.]\n"
     ]
    },
    {
     "data": {
      "image/png": "[encoded data removed]",
      "text/plain": [
       "<Figure size 576x396 with 1 Axes>"
      ]
     },
     "metadata": {},
     "output_type": "display_data"
    }
   ],
   "source": [
    "fig, ax = plt.subplots()\n",
    "ar=t_data\n",
    "print(ar)\n",
    "#ax.scatter(data_test[[\"Kick_Speed\"]], c = 'red',label='fail')\n",
    "val = 0. # this is the value where you want the data to appear on the y-axis.\n",
    "print('Length of array :',len(ar))\n",
    "#plt.plot( ar,\"ro\")\n",
    "#plt.hist(ar, bins = 10)\n",
    "#plt.show()\n",
    "y_loc=np.zeros_like(ar)\n",
    "print(y_loc)\n",
    "val = 0. # this is the value where you want the data to appear on the y-axis.\n",
    "plt.scatter(ar,y_loc)\n",
    "\n",
    "\n",
    "\n",
    "#fig, ax = plt.subplots()\n",
    "x_min = min(ar)\n",
    "x_max =max(ar)\n",
    "\n",
    "\n",
    "mean1 =param[0][0] ;std1 = covar[0][0]\n",
    "mean2 =param[1][0] ;std2 = covar[1][0]\n",
    "#mean3 =param[2][0] ;std3 = covar[2][0]\n",
    "#mean4 =param[3][0] ;std4 = covar[3][0]\n",
    "x = np.linspace(x_min, x_max, 100)\n",
    "\n",
    "y1 = scipy.stats.norm.pdf(x,mean1,std1)\n",
    "y2 = scipy.stats.norm.pdf(x,mean2,std2)\n",
    "#y3 = scipy.stats.norm.pdf(x,mean3,std3)\n",
    "#y4 = scipy.stats.norm.pdf(x,mean4,std4)\n",
    "plt.plot(x,y1, color='black')\n",
    "plt.plot(x,y2, color='red')\n",
    "#plt.plot(x,y3, color='green')\n",
    "#plt.plot(x,y4, color='blue')\n",
    "plt.show()"
   ]
  },
  {
   "cell_type": "code",
   "execution_count": null,
   "metadata": {},
   "outputs": [],
   "source": []
  },
  {
   "cell_type": "code",
   "execution_count": null,
   "metadata": {},
   "outputs": [],
   "source": []
  },
  {
   "cell_type": "code",
   "execution_count": null,
   "metadata": {},
   "outputs": [],
   "source": []
  },
  {
   "cell_type": "code",
   "execution_count": null,
   "metadata": {},
   "outputs": [],
   "source": []
  },
  {
   "cell_type": "code",
   "execution_count": null,
   "metadata": {},
   "outputs": [],
   "source": []
  },
  {
   "cell_type": "code",
   "execution_count": null,
   "metadata": {},
   "outputs": [],
   "source": []
  },
  {
   "cell_type": "code",
   "execution_count": null,
   "metadata": {},
   "outputs": [],
   "source": []
  },
  {
   "cell_type": "code",
   "execution_count": null,
   "metadata": {},
   "outputs": [],
   "source": [
    "\n"
   ]
  },
  {
   "cell_type": "code",
   "execution_count": null,
   "metadata": {},
   "outputs": [],
   "source": []
  },
  {
   "cell_type": "code",
   "execution_count": null,
   "metadata": {},
   "outputs": [],
   "source": []
  },
  {
   "cell_type": "code",
   "execution_count": null,
   "metadata": {},
   "outputs": [],
   "source": []
  },
  {
   "cell_type": "code",
   "execution_count": null,
   "metadata": {},
   "outputs": [],
   "source": []
  },
  {
   "cell_type": "code",
   "execution_count": null,
   "metadata": {},
   "outputs": [],
   "source": []
  },
  {
   "cell_type": "code",
   "execution_count": null,
   "metadata": {},
   "outputs": [],
   "source": []
  },
  {
   "cell_type": "code",
   "execution_count": null,
   "metadata": {},
   "outputs": [],
   "source": []
  },
  {
   "cell_type": "code",
   "execution_count": null,
   "metadata": {},
   "outputs": [],
   "source": []
  },
  {
   "cell_type": "code",
   "execution_count": null,
   "metadata": {},
   "outputs": [],
   "source": []
  }
 ],
 "metadata": {
  "kernelspec": {
   "display_name": "Python 3",
   "language": "python",
   "name": "python3"
  },
  "language_info": {
   "codemirror_mode": {
    "name": "ipython",
    "version": 3
   },
   "file_extension": ".py",
   "mimetype": "text/x-python",
   "name": "python",
   "nbconvert_exporter": "python",
   "pygments_lexer": "ipython3",
   "version": "3.6.9"
  }
 },
 "nbformat": 4,
 "nbformat_minor": 4
}
